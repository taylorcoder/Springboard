{
 "cells": [
  {
   "cell_type": "code",
   "execution_count": 15,
   "metadata": {},
   "outputs": [
    {
     "name": "stdout",
     "output_type": "stream",
     "text": [
      "d8da9716-5705-40dc-b59d-9ec093 roofus91\n",
      "<Response [401]>\n"
     ]
    }
   ],
   "source": [
    "import requests\n",
    "import base64\n",
    "\n",
    "pull_url = 'https://api.mysportsfeeds.com/v1.0/pull/nba/2018-2019-regular/cumulative_player_stats.csv'\n",
    "%store -r api_key\n",
    "%store -r password\n",
    "\n",
    "r = requests.get(\n",
    "    url=pull_url, \n",
    "    headers={\"Authorization\": \"Basic \" + base64.b64encode('{}:{}'.format({api_key},{password}).encode('utf-8')).decode('ascii')})\n",
    "print(r)\n",
    "             "
   ]
  },
  {
   "cell_type": "code",
   "execution_count": null,
   "metadata": {},
   "outputs": [],
   "source": []
  }
 ],
 "metadata": {
  "kernelspec": {
   "display_name": "Python 3",
   "language": "python",
   "name": "python3"
  },
  "language_info": {
   "codemirror_mode": {
    "name": "ipython",
    "version": 3
   },
   "file_extension": ".py",
   "mimetype": "text/x-python",
   "name": "python",
   "nbconvert_exporter": "python",
   "pygments_lexer": "ipython3",
   "version": "3.6.5"
  }
 },
 "nbformat": 4,
 "nbformat_minor": 2
}
