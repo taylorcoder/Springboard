{
 "cells": [
  {
   "cell_type": "code",
   "execution_count": null,
   "metadata": {},
   "outputs": [],
   "source": [
    "import pandas as pd\n",
    "import numpy as np\n",
    "import matplotlib.pyplot as plt\n",
    "\n",
    "# Create dataframe from boxing data csv 'bouts_out_new.csv'\n",
    "\n",
    "df = pd.read_csv('bouts_out_new.csv')\n",
    "\n",
    "# Create a dictionary with each numerical column name, and the acceptable range of values for that column.\n",
    "\n",
    "num_cols_dict = {col: (df[col].quantile(0.01), df[col].quantile(0.99)) for col in df.describe().columns}\n",
    "\n",
    "# Use the col_ranges dictionary to replace all unacceptable values with NaN, \n",
    "# and then fill the NaN values with the median of each column.\n",
    "\n",
    "for col in num_cols_dict.keys():\n",
    "    df[col] = df[col].where((df[col] >= num_cols_dict[col][0]) & (df[col] <= num_cols_dict[col][1]))\n",
    "    df[col] = df[col].fillna(df[col].median())\n",
    "    \n",
    "# Remove the \"stance\" column, as there are too many null values. \n",
    "# Remove the \"judge\" columns, since the \"result\" column already denotes the winner.\n",
    "\n",
    "df = df.drop(['stance_A','stance_B', 'judge1_A', 'judge1_B', 'judge2_A', 'judge2_B','judge3_A','judge3_B'], axis=1)\n",
    "\n"
   ]
  }
 ],
 "metadata": {
  "kernelspec": {
   "display_name": "Python 3",
   "language": "python",
   "name": "python3"
  },
  "language_info": {
   "codemirror_mode": {
    "name": "ipython",
    "version": 3
   },
   "file_extension": ".py",
   "mimetype": "text/x-python",
   "name": "python",
   "nbconvert_exporter": "python",
   "pygments_lexer": "ipython3",
   "version": "3.6.5"
  }
 },
 "nbformat": 4,
 "nbformat_minor": 2
}
