{
 "cells": [
  {
   "cell_type": "markdown",
   "metadata": {},
   "source": [
    "# What is the True Normal Human Body Temperature? \n",
    "\n",
    "#### Background\n",
    "\n",
    "The mean normal body temperature was held to be 37$^{\\circ}$C or 98.6$^{\\circ}$F for more than 120 years since it was first conceptualized and reported by Carl Wunderlich in a famous 1868 book. But, is this value statistically correct?"
   ]
  },
  {
   "cell_type": "markdown",
   "metadata": {},
   "source": [
    "<h3>Exercises</h3>\n",
    "\n",
    "<p>In this exercise, you will analyze a dataset of human body temperatures and employ the concepts of hypothesis testing, confidence intervals, and statistical significance.</p>\n",
    "\n",
    "<p>Answer the following questions <b>in this notebook below and submit to your Github account</b>.</p> \n",
    "\n",
    "<ol>\n",
    "<li>  Is the distribution of body temperatures normal? \n",
    "    <ul>\n",
    "    <li> Although this is not a requirement for the Central Limit Theorem to hold (read the introduction on Wikipedia's page about the CLT carefully: https://en.wikipedia.org/wiki/Central_limit_theorem), it gives us some peace of mind that the population may also be normally distributed if we assume that this sample is representative of the population.\n",
    "    <li> Think about the way you're going to check for the normality of the distribution. Graphical methods are usually used first, but there are also other ways: https://en.wikipedia.org/wiki/Normality_test\n",
    "    </ul>\n",
    "<li>  Is the sample size large? Are the observations independent?\n",
    "    <ul>\n",
    "    <li> Remember that this is a condition for the Central Limit Theorem, and hence the statistical tests we are using, to apply.\n",
    "    </ul>\n",
    "<li>  Is the true population mean really 98.6 degrees F?\n",
    "    <ul>\n",
    "    <li> First, try a bootstrap hypothesis test.\n",
    "    <li> Now, let's try frequentist statistical testing. Would you use a one-sample or two-sample test? Why?\n",
    "    <li> In this situation, is it appropriate to use the $t$ or $z$ statistic? \n",
    "    <li> Now try using the other test. How is the result be different? Why?\n",
    "    </ul>\n",
    "<li>  Draw a small sample of size 10 from the data and repeat both frequentist tests. \n",
    "    <ul>\n",
    "    <li> Which one is the correct one to use? \n",
    "    <li> What do you notice? What does this tell you about the difference in application of the $t$ and $z$ statistic?\n",
    "    </ul>\n",
    "<li>  At what temperature should we consider someone's temperature to be \"abnormal\"?\n",
    "    <ul>\n",
    "    <li> As in the previous example, try calculating everything using the boostrap approach, as well as the frequentist approach.\n",
    "    <li> Start by computing the margin of error and confidence interval. When calculating the confidence interval, keep in mind that you should use the appropriate formula for one draw, and not N draws.\n",
    "    </ul>\n",
    "<li>  Is there a significant difference between males and females in normal temperature?\n",
    "    <ul>\n",
    "    <li> What testing approach did you use and why?\n",
    "    <li> Write a story with your conclusion in the context of the original problem.\n",
    "    </ul>\n",
    "</ol>\n",
    "\n",
    "You can include written notes in notebook cells using Markdown: \n",
    "   - In the control panel at the top, choose Cell > Cell Type > Markdown\n",
    "   - Markdown syntax: http://nestacms.com/docs/creating-content/markdown-cheat-sheet\n",
    "\n",
    "#### Resources\n",
    "\n",
    "+ Information and data sources: http://www.amstat.org/publications/jse/datasets/normtemp.txt, http://www.amstat.org/publications/jse/jse_data_archive.htm\n",
    "+ Markdown syntax: http://nestacms.com/docs/creating-content/markdown-cheat-sheet\n",
    "\n",
    "****"
   ]
  },
  {
   "cell_type": "code",
   "execution_count": 1,
   "metadata": {},
   "outputs": [],
   "source": [
    "import pandas as pd\n",
    "import matplotlib.pyplot as plt\n",
    "import numpy as np\n",
    "import seaborn as sns\n",
    "from scipy.stats import norm\n",
    "from scipy.stats import t\n",
    "\n",
    "df = pd.read_csv('data/human_body_temperature.csv')\n"
   ]
  },
  {
   "cell_type": "code",
   "execution_count": 2,
   "metadata": {
    "scrolled": true
   },
   "outputs": [
    {
     "name": "stderr",
     "output_type": "stream",
     "text": [
      "C:\\Users\\Taylor\\Anaconda3\\lib\\site-packages\\matplotlib\\axes\\_axes.py:6462: UserWarning: The 'normed' kwarg is deprecated, and has been replaced by the 'density' kwarg.\n",
      "  warnings.warn(\"The 'normed' kwarg is deprecated, and has been \"\n"
     ]
    },
    {
     "data": {
      "image/png": "[encoded data removed]",
      "text/plain": [
       "<Figure size 432x288 with 1 Axes>"
      ]
     },
     "metadata": {},
     "output_type": "display_data"
    }
   ],
   "source": [
    "### 1. Check the normality of the distribution of body temperatures\n",
    "\n",
    "sns.set()\n",
    "\n",
    "x = np.arange(96,101,0.1)\n",
    "\n",
    "_ = plt.plot(x, norm.pdf(x,np.mean(df['temperature']), np.std(df['temperature'])))\n",
    "\n",
    "_ = plt.hist(x = 'temperature', data = df, bins=int(np.sqrt(len(df))), alpha=0.5, normed=True)\n",
    "\n",
    "\n",
    "\n"
   ]
  },
  {
   "cell_type": "markdown",
   "metadata": {},
   "source": [
    "+ Here I have plotted the normalized distribution of body temperatures against the pdf of the normal distribution with the same mean and standard deviation. The temperature dataset appears to be more-or-less normally distributed. "
   ]
  },
  {
   "cell_type": "code",
   "execution_count": 3,
   "metadata": {},
   "outputs": [
    {
     "name": "stdout",
     "output_type": "stream",
     "text": [
      "The sample size is: 130\n"
     ]
    }
   ],
   "source": [
    "### 2. Is the sample size large? Are the observations independent?\n",
    "\n",
    "print('The sample size is:', len(df['temperature']))"
   ]
  },
  {
   "cell_type": "markdown",
   "metadata": {},
   "source": [
    "## Is the sample size large? Are the observations independent?\n",
    "\n",
    "+ For this sample, we can see that the sample size is greater than 30, so it is sufficiently large to meet the size requirement of the Central Limit theorem\n",
    "\n",
    "+ Since the sample size, 130, is well below 10% of the total population size, we can assume that temperature observations are independent."
   ]
  },
  {
   "cell_type": "code",
   "execution_count": 4,
   "metadata": {},
   "outputs": [
    {
     "name": "stdout",
     "output_type": "stream",
     "text": [
      "The p-value is: 0.0\n"
     ]
    }
   ],
   "source": [
    "### 3. Bootstrap hypothesis test\n",
    "\n",
    "# Define the function bootstrap_replicate_1d, which computes a boostrap replicate from a 1-dimensional dataset.\n",
    "\n",
    "def bootstrap_replicate_1d(data, func):\n",
    "    \n",
    "    return func(np.random.choice(data, size=len(data)))\n",
    "\n",
    "# Define the function draw_bs_reps to compute multiple bootstrap replicates from sample data.\n",
    "\n",
    "def draw_bs_reps(data, func, size=1):\n",
    "\n",
    "    bs_replicates = np.empty(size)\n",
    "\n",
    "    for i in range(size):\n",
    "        bs_replicates[i] = bootstrap_replicate_1d(data, func)\n",
    "\n",
    "    return bs_replicates\n",
    "\n",
    "# Store the temperature column in an array and translate the temperature dataset so that its mean is 98.6\n",
    "\n",
    "temps = np.array(df['temperature'])\n",
    "\n",
    "translated_temps = temps - np.mean(temps) + 98.6\n",
    "\n",
    "# Draw 10,000 bootstrap replicates for the sample mean of the translated temperature data\n",
    "\n",
    "temp_replicates = draw_bs_reps(translated_temps, np.mean, 10000)\n",
    "\n",
    "# Compute the p-value\n",
    "\n",
    "p = np.sum(temp_replicates <= np.mean(temps)) / len(temp_replicates)\n",
    "\n",
    "print('The p-value is:', p)"
   ]
  },
  {
   "cell_type": "markdown",
   "metadata": {},
   "source": [
    "## Analysis of bootstrap hypothesis test\n",
    "\n",
    "+ We were testing the null hypothesis that the true population mean is 98.6. The bootstrap hypothesis test yielded a p-value of 0, which is statistically significant. We have sufficient evidence the reject the null hypothesis, and claim that the true population mean is different than 98.6."
   ]
  },
  {
   "cell_type": "code",
   "execution_count": 5,
   "metadata": {},
   "outputs": [
    {
     "name": "stdout",
     "output_type": "stream",
     "text": [
      "The p-value is: 2.1887464624050777e-07\n"
     ]
    }
   ],
   "source": [
    "### 3. One sample frequentist statistical test\n",
    "\n",
    "# Calculate the test statistic.\n",
    "\n",
    "t_temps = (np.mean(temps) - 98.6) / (np.std(temps) / np.sqrt(130))\n",
    "\n",
    "# Calculate the two-tailed p-value using this test statistic and 129 degrees of freedom\n",
    "\n",
    "p = 2 * t.sf(abs(t_temps), 129)\n",
    "\n",
    "print('The p-value is:', p)"
   ]
  },
  {
   "cell_type": "markdown",
   "metadata": {},
   "source": [
    "## Analysis of one-sample t-test\n",
    "\n",
    "+ Here we use a one-sample t-test. We use a one sample test because we only have the dataset for these 130 persons, which we will compare against a hypothesized population mean, 98.6. \n",
    "\n",
    "+ We use a t-test, because although n is sufficiently large, we are unaware of the population standard deviation."
   ]
  },
  {
   "cell_type": "code",
   "execution_count": 6,
   "metadata": {},
   "outputs": [
    {
     "name": "stdout",
     "output_type": "stream",
     "text": [
      "The p-value is: 4.3523151658713056e-08\n"
     ]
    }
   ],
   "source": [
    "### 3. Same one sample test, this time with a z-value\n",
    "\n",
    "# Calculate the test statistic.\n",
    "\n",
    "z_temps = (np.mean(temps) - 98.6) / (np.std(temps) / np.sqrt(130))\n",
    "\n",
    "# Calculate the two-tailed p-value using this test statistic and 129 degrees of freedom\n",
    "\n",
    "p = 2 * norm.sf(abs(z_temps))\n",
    "\n",
    "print('The p-value is:', p)"
   ]
  },
  {
   "cell_type": "markdown",
   "metadata": {},
   "source": [
    "## Analysis of one sample z-test\n",
    "\n",
    "+ Upon using a z test statistic instead, we notice an even smaller p value. By nature, the t test statistic assumes no knowledge of the population standard deviation, and so we use the sample standard deviation as an estimate. As such, the t distribution provides greater leeway for variability between the sample mean and the hypothesized population mean. Thus, the p-value for the t-test will be larger, making it more difficult to reject the null hypothesis."
   ]
  },
  {
   "cell_type": "code",
   "execution_count": 7,
   "metadata": {},
   "outputs": [
    {
     "name": "stdout",
     "output_type": "stream",
     "text": [
      "The p-value for the t test statistic is: 0.09054109827609624\n",
      "The p-value for the z test statistic is: 0.05802988846197854\n"
     ]
    }
   ],
   "source": [
    "### 4. Repeat the above frequentist statiscal tests, this time with a sample size of 10.\n",
    "\n",
    "# Draw a random sample of size 10 from the data.\n",
    "\n",
    "temps_small = np.random.choice(temps, replace=False, size=10)\n",
    "\n",
    "# Compute the t and z test statistics\n",
    "\n",
    "t_temps_small = (np.mean(temps_small) - 98.6) / (np.std(temps_small) / np.sqrt(10))\n",
    "\n",
    "z_temps_small = (np.mean(temps_small) - 98.6) / (np.std(temps_small) / np.sqrt(10))\n",
    "\n",
    "# Calculate the two-tailed p-values for the t test statistic and the z test statistic, respectively.\n",
    "\n",
    "p_t = 2 * t.sf(abs(t_temps_small), 9)\n",
    "\n",
    "p_z = 2 * norm.sf(abs(z_temps_small))\n",
    "\n",
    "print('The p-value for the t test statistic is:', p_t)\n",
    "print('The p-value for the z test statistic is:', p_z)"
   ]
  },
  {
   "cell_type": "markdown",
   "metadata": {},
   "source": [
    "## Analysis of z-test vs. t-test for n=10\n",
    "\n",
    "+ Here we see a more substantial difference between the two p-values. The p-value for the t-test is much larger (about 0.03). As n becomes smaller, it is more and more likely that the sample mean will stray further from the population mean. For the reasons described above, the t test statistic will tend to return larger p-values, making it harder for us to reject the null hypothesis. Therefore, when there is a greater degree of uncertainty in our analysis, i.e. a small sample size and lack of the population standard deviation, it is appropriate to use the t-test, to appropriately force greater difficulty on our rejection of the null hypothesis."
   ]
  },
  {
   "cell_type": "code",
   "execution_count": 8,
   "metadata": {},
   "outputs": [
    {
     "name": "stdout",
     "output_type": "stream",
     "text": [
      "The bootstrap confidence interval for mean temperature is: [98.12461538 98.37384615]\n"
     ]
    }
   ],
   "source": [
    "### 5. Bootstrap confidence interval\n",
    "\n",
    "# Draw 10000 bootstrap replicates of the sample mean of the temperatures.\n",
    "\n",
    "bs_reps_temps = draw_bs_reps(temps,np.mean,10000)\n",
    "\n",
    "temps_interval = np.percentile(bs_reps_temps, [2.5, 97.5])\n",
    "\n",
    "print('The bootstrap confidence interval for mean temperature is:', temps_interval)"
   ]
  },
  {
   "cell_type": "code",
   "execution_count": 9,
   "metadata": {},
   "outputs": [
    {
     "name": "stdout",
     "output_type": "stream",
     "text": [
      "The frequentist confidence interval for mean temperature is: [98.12249318821638, 98.37596835024512]\n"
     ]
    }
   ],
   "source": [
    "### 5. Frequentist confidence interval\n",
    "\n",
    "critical_t = t.ppf(.975, 129)\n",
    "\n",
    "margin_of_error = critical_t * (np.std(temps) / np.sqrt(130))\n",
    "\n",
    "confidence_interval_low = np.mean(temps) - margin_of_error\n",
    "confidence_interval_high = np.mean(temps) + margin_of_error\n",
    "\n",
    "confidence_interval = [confidence_interval_low, confidence_interval_high]\n",
    "\n",
    "print('The frequentist confidence interval for mean temperature is:', confidence_interval)\n",
    "\n"
   ]
  },
  {
   "cell_type": "markdown",
   "metadata": {},
   "source": [
    "## Analysis of confidence interval for mean body temperature\n",
    "\n",
    "+ In general, it would appear that we would consider a body temperature below 98.122 or above 98.376 as abnormal."
   ]
  },
  {
   "cell_type": "code",
   "execution_count": 10,
   "metadata": {},
   "outputs": [
    {
     "name": "stdout",
     "output_type": "stream",
     "text": [
      "The p-value is: 0.0106\n"
     ]
    }
   ],
   "source": [
    "### 6. Is there a difference between males and females in terms of normal body temperature?\n",
    "\n",
    "# Separate males and females into separate dataframes\n",
    "\n",
    "df_males = df[df['gender']=='M']\n",
    "df_females = df[df['gender']=='F']\n",
    "\n",
    "# Create arrays for the male temperatures and female temperatures\n",
    "\n",
    "temps_male = np.array(df_males['temperature'])\n",
    "temps_female = np.array(df_females['temperature'])\n",
    "\n",
    "# Create function for computing permutation samples\n",
    "\n",
    "def permutation_sample(data1, data2):\n",
    "\n",
    "    data = np.concatenate((data1, data2))\n",
    "\n",
    "    permuted_data = np.random.permutation(data)\n",
    "\n",
    "    perm_sample_1 = permuted_data[:len(data1)]\n",
    "    perm_sample_2 = permuted_data[len(data1):]\n",
    "\n",
    "    return perm_sample_1, perm_sample_2\n",
    "\n",
    "# Create a function for computing multiple permutation replicates\n",
    "\n",
    "def draw_perm_reps(data_1, data_2, func, size=1):\n",
    "\n",
    "    perm_replicates = np.empty(size)\n",
    "\n",
    "    for i in range(size):\n",
    "\n",
    "        perm_sample_1, perm_sample_2 = permutation_sample(data_1,data_2)\n",
    "\n",
    "        perm_replicates[i] = func(perm_sample_1, perm_sample_2)\n",
    "\n",
    "    return perm_replicates\n",
    "\n",
    "# Create a function for finding the difference in means between two datasets\n",
    "\n",
    "def diff_of_means(data_1, data_2):\n",
    "\n",
    "    diff = np.mean(data_1) - np.mean(data_2)\n",
    "\n",
    "    return diff\n",
    "\n",
    "# Draw 10000 permutation replicates of the difference in sample means\n",
    "\n",
    "perm_reps = draw_perm_reps(temps_male, temps_female, diff_of_means, 10000)\n",
    "\n",
    "# Compute the p-value\n",
    "\n",
    "p = np.sum(perm_reps <= np.mean(temps_male) - np.mean(temps_female))/len(perm_reps)\n",
    "\n",
    "print('The p-value is:' , p)"
   ]
  },
  {
   "cell_type": "markdown",
   "metadata": {},
   "source": [
    "## Analysis of permutation test on difference in male and female temperature distributions\n",
    "\n",
    "+ We were testing the hypothesis that male and female body temperatures are identically distributed. To do this, we use a permutation test, which assumes no difference in the two distributions before computing the test statistic. We used the difference in sample means as our test statistic. \n",
    "\n",
    "+ Assuming the null hypothesis is true, we determined that there was approximately a 1.12% chance of observing the empirical difference in means (or more extreme), if the distributions were identical. This is a statistically significant p-value, and so we can conclude that there is a difference in the distributions of body temperatures for males and females."
   ]
  },
  {
   "cell_type": "code",
   "execution_count": null,
   "metadata": {},
   "outputs": [],
   "source": []
  }
 ],
 "metadata": {
  "kernelspec": {
   "display_name": "Python 3",
   "language": "python",
   "name": "python3"
  },
  "language_info": {
   "codemirror_mode": {
    "name": "ipython",
    "version": 3
   },
   "file_extension": ".py",
   "mimetype": "text/x-python",
   "name": "python",
   "nbconvert_exporter": "python",
   "pygments_lexer": "ipython3",
   "version": "3.6.5"
  }
 },
 "nbformat": 4,
 "nbformat_minor": 1
}
