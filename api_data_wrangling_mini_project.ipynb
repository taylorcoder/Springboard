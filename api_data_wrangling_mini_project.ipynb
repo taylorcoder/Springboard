{
 "cells": [
  {
   "cell_type": "markdown",
   "metadata": {},
   "source": [
    "This exercise will require you to pull some data from the Qunadl API. Qaundl is currently the most widely used aggregator of financial market data."
   ]
  },
  {
   "cell_type": "markdown",
   "metadata": {},
   "source": [
    "As a first step, you will need to register a free account on the http://www.quandl.com website."
   ]
  },
  {
   "cell_type": "markdown",
   "metadata": {},
   "source": [
    "After you register, you will be provided with a unique API key, that you should store:"
   ]
  },
  {
   "cell_type": "code",
   "execution_count": null,
   "metadata": {
    "collapsed": true
   },
   "outputs": [],
   "source": [
    "# Store the API key as a string - according to PEP8, constants are always named in all upper case\n",
    "API_KEY = "
   ]
  },
  {
   "cell_type": "markdown",
   "metadata": {},
   "source": [
    "Qaundl has a large number of data sources, but, unfortunately, most of them require a Premium subscription. Still, there are also a good number of free datasets."
   ]
  },
  {
   "cell_type": "markdown",
   "metadata": {},
   "source": [
    "For this mini project, we will focus on equities data from the Frankfurt Stock Exhange (FSE), which is available for free. We'll try and analyze the stock prices of a company called Carl Zeiss Meditec, which manufactures tools for eye examinations, as well as medical lasers for laser eye surgery: https://www.zeiss.com/meditec/int/home.html. The company is listed under the stock ticker AFX_X."
   ]
  },
  {
   "cell_type": "markdown",
   "metadata": {},
   "source": [
    "You can find the detailed Quandl API instructions here: https://docs.quandl.com/docs/time-series"
   ]
  },
  {
   "cell_type": "markdown",
   "metadata": {},
   "source": [
    "While there is a dedicated Python package for connecting to the Quandl API, we would prefer that you use the *requests* package, which can be easily downloaded using *pip* or *conda*. You can find the documentation for the package here: http://docs.python-requests.org/en/master/ "
   ]
  },
  {
   "cell_type": "markdown",
   "metadata": {},
   "source": [
    "Finally, apart from the *requests* package, you are encouraged to not use any third party Python packages, such as *pandas*, and instead focus on what's available in the Python Standard Library (the *collections* module might come in handy: https://pymotw.com/3/collections/).\n",
    "Also, since you won't have access to DataFrames, you are encouraged to us Python's native data structures - preferably dictionaries, though some questions can also be answered using lists.\n",
    "You can read more on these data structures here: https://docs.python.org/3/tutorial/datastructures.html"
   ]
  },
  {
   "cell_type": "markdown",
   "metadata": {},
   "source": [
    "Keep in mind that the JSON responses you will be getting from the API map almost one-to-one to Python's dictionaries. Unfortunately, they can be very nested, so make sure you read up on indexing dictionaries in the documentation provided above."
   ]
  },
  {
   "cell_type": "code",
   "execution_count": 2,
   "metadata": {},
   "outputs": [],
   "source": [
    "# First, import the relevant modules\n",
    "import requests"
   ]
  },
  {
   "cell_type": "code",
   "execution_count": 3,
   "metadata": {},
   "outputs": [
    {
     "name": "stdout",
     "output_type": "stream",
     "text": [
      "['2018-09-03', None, 76.8, 75.9, 76.5, None, 105650.0, 8083383.0, None, None, None]\n"
     ]
    }
   ],
   "source": [
    "# Now, call the Quandl API and pull out a small sample of the data (only one day) to get a glimpse\n",
    "# into the JSON structure that will be returned\n",
    "url_test = 'https://www.quandl.com/api/v3/datasets/FSE/AFX_X?api_key=FXx92DyKHAxwZkw2Bgbx'\n",
    "r = requests.get(url_test)\n",
    "json_data = r.json()\n",
    "print(json_data['dataset']['data'][0])"
   ]
  },
  {
   "cell_type": "code",
   "execution_count": null,
   "metadata": {
    "collapsed": true
   },
   "outputs": [],
   "source": [
    "# Inspect the JSON structure of the object you created, and take note of how nested it is,\n",
    "# as well as the overall structure\n"
   ]
  },
  {
   "cell_type": "markdown",
   "metadata": {},
   "source": [
    "These are your tasks for this mini project:\n",
    "\n",
    "1. Collect data from the Franfurt Stock Exchange, for the ticker AFX_X, for the whole year 2017 (keep in mind that the date format is YYYY-MM-DD).\n",
    "2. Convert the returned JSON object into a Python dictionary.\n",
    "3. Calculate what the highest and lowest opening prices were for the stock in this period.\n",
    "4. What was the largest change in any one day (based on High and Low price)?\n",
    "5. What was the largest change between any two days (based on Closing Price)?\n",
    "6. What was the average daily trading volume during this year?\n",
    "7. (Optional) What was the median trading volume during this year. (Note: you may need to implement your own function for calculating the median.)"
   ]
  },
  {
   "cell_type": "code",
   "execution_count": 4,
   "metadata": {},
   "outputs": [],
   "source": [
    "### 1. Collect data from the Franfurt Stock Exchange, for the ticker AFX_X, for the whole year 2017\n",
    "\n",
    "import requests\n",
    "\n",
    "#Format API URL to select AFX_X for the year 2017\n",
    "\n",
    "url = 'https://www.quandl.com/api/v3/datasets/FSE/AFX_X?start_date=2017-01-01&end_date=2017-12-31&api_key=FXx92DyKHAxwZkw2Bgbx'\n",
    "\n",
    "#Request data from API \n",
    "\n",
    "r = requests.get(url)"
   ]
  },
  {
   "cell_type": "code",
   "execution_count": 5,
   "metadata": {},
   "outputs": [],
   "source": [
    "### 2. Convert the returned JSON object into a Python dictionary.\n",
    "\n",
    "json_data = r.json()"
   ]
  },
  {
   "cell_type": "code",
   "execution_count": 6,
   "metadata": {},
   "outputs": [
    {
     "name": "stdout",
     "output_type": "stream",
     "text": [
      "The highest opening price was: 53.11\n",
      "The lowest opening price was: 34.0\n"
     ]
    }
   ],
   "source": [
    "### 3. Calculate what the highest and lowest opening prices were for the stock in this period.\n",
    "\n",
    "#Create list of all opening prices that are not NoneTypes.\n",
    "\n",
    "open_prices = [item[1] for item in json_data['dataset']['data'] if item[1] != None]\n",
    "\n",
    "#Print the highest and lowest opening prices\n",
    "\n",
    "print('The highest opening price was: ' + str(max(open_prices)))\n",
    "\n",
    "print('The lowest opening price was: ' + str(min(open_prices)))\n"
   ]
  },
  {
   "cell_type": "code",
   "execution_count": 50,
   "metadata": {},
   "outputs": [
    {
     "name": "stdout",
     "output_type": "stream",
     "text": [
      "The largest change in one day was: 2.81\n"
     ]
    }
   ],
   "source": [
    "### 4. What was the largest change in any one day (based on High and Low price)?\n",
    "\n",
    "#Create a tupled list of all high-low prices\n",
    "\n",
    "highs_lows = [(item[2], item[3]) for item in json_data['dataset']['data']]\n",
    "\n",
    "#Create a list of all changes in price\n",
    "\n",
    "changes_highlow = [item[0] - item[1] for item in highs_lows]\n",
    "\n",
    "#Print the max change between high and low price\n",
    "\n",
    "print('The largest change in one day was: ' + str(round(max(changes_highlow),2)))"
   ]
  },
  {
   "cell_type": "code",
   "execution_count": 7,
   "metadata": {},
   "outputs": [
    {
     "name": "stdout",
     "output_type": "stream",
     "text": [
      "The max change in closing price between two days was: 2.56\n"
     ]
    }
   ],
   "source": [
    "### 5. What was the largest change between any two days (based on Closing Price)?\n",
    "\n",
    "#Create a list of all closing prices\n",
    "\n",
    "closing = [item[4] for item in json_data['dataset']['data']]\n",
    "\n",
    "#Create a list of all changes between consecutive days\n",
    "\n",
    "changes_closing =[abs(closing[i] - closing[i+1]) for i in range(len(closing)-1)]\n",
    "    \n",
    "#Print the max change\n",
    "\n",
    "print('The max change in closing price between two days was: ' + str(round(max(changes_closing),2)))"
   ]
  },
  {
   "cell_type": "code",
   "execution_count": 10,
   "metadata": {},
   "outputs": [
    {
     "name": "stdout",
     "output_type": "stream",
     "text": [
      "The average daily trading volume during 2017 was: 89124.34\n"
     ]
    }
   ],
   "source": [
    "### 6. What was the average daily trading volume during this year?\n",
    "\n",
    "#Create a list of all trading volumes\n",
    "\n",
    "volume = [item[6] for item in json_data['dataset']['data']]\n",
    "\n",
    "#Calculate the average of the volume list\n",
    "\n",
    "avg_volume = round(sum(volume) / len(volume),2)\n",
    "\n",
    "#Print the average\n",
    "\n",
    "print('The average daily trading volume during 2017 was: ' + str(avg_volume))"
   ]
  },
  {
   "cell_type": "code",
   "execution_count": 9,
   "metadata": {},
   "outputs": [
    {
     "name": "stdout",
     "output_type": "stream",
     "text": [
      "The median trading volume for 2017 was: 76286.0\n"
     ]
    }
   ],
   "source": [
    "### 7. What was the median trading volume during this year?\n",
    "\n",
    "#Create median function\n",
    "\n",
    "def median(nums):\n",
    "    nums = sorted(nums)\n",
    "    if len(nums)%2 == 1:\n",
    "        return nums[int(len(nums)/2)]\n",
    "    \n",
    "    else:\n",
    "        return (nums[int(len(nums)/2)] + nums[int(len(nums)/2) - 1])/2\n",
    "                          \n",
    "print('The median trading volume for 2017 was: ' + str(median(volume)))"
   ]
  },
  {
   "cell_type": "code",
   "execution_count": null,
   "metadata": {},
   "outputs": [],
   "source": []
  }
 ],
 "metadata": {
  "kernelspec": {
   "display_name": "Python 3",
   "language": "python",
   "name": "python3"
  },
  "language_info": {
   "codemirror_mode": {
    "name": "ipython",
    "version": 3
   },
   "file_extension": ".py",
   "mimetype": "text/x-python",
   "name": "python",
   "nbconvert_exporter": "python",
   "pygments_lexer": "ipython3",
   "version": "3.6.5"
  }
 },
 "nbformat": 4,
 "nbformat_minor": 2
}
